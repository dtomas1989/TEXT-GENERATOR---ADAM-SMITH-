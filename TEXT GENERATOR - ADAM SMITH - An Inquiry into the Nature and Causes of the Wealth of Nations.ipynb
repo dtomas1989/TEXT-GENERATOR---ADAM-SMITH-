{
 "cells": [
  {
   "cell_type": "markdown",
   "metadata": {},
   "source": [
    "## Import Libreries"
   ]
  },
  {
   "cell_type": "code",
   "execution_count": 1,
   "metadata": {},
   "outputs": [],
   "source": [
    "import tensorflow as tf\n",
    "import numpy as np\n",
    "import matplotlib.pyplot as plt\n",
    "%matplotlib inline\n",
    "\n",
    "from tensorflow.keras.preprocessing.text import Tokenizer\n",
    "from tensorflow.keras.preprocessing.sequence import pad_sequences\n",
    "from tensorflow.keras.layers import Embedding, LSTM, Dense, Bidirectional"
   ]
  },
  {
   "cell_type": "code",
   "execution_count": 2,
   "metadata": {},
   "outputs": [
    {
     "name": "stderr",
     "output_type": "stream",
     "text": [
      "/home/david/.local/bin/.virtualenvs/david/lib/python3.6/site-packages/tensorflow_core/python/client/session.py:1750: UserWarning: An interactive session is already active. This can cause out-of-memory errors in some cases. You must explicitly call `InteractiveSession.close()` to release resources held by the other session(s).\n",
      "  warnings.warn('An interactive session is already active. This can '\n"
     ]
    },
    {
     "data": {
      "text/plain": [
       "True"
      ]
     },
     "execution_count": 2,
     "metadata": {},
     "output_type": "execute_result"
    }
   ],
   "source": [
    "from tensorflow.compat.v1 import ConfigProto\n",
    "from tensorflow.compat.v1 import InteractiveSession\n",
    "\n",
    "config = ConfigProto()\n",
    "config.gpu_options.allow_growth = True\n",
    "session = InteractiveSession(config=config)\n",
    "\n",
    "gpu_options = tf.compat.v1.GPUOptions(allow_growth=True)\n",
    "session = tf.compat.v1.InteractiveSession(config=tf.compat.v1.ConfigProto(gpu_options=gpu_options))\n",
    "\n",
    "tf.test.is_gpu_available()"
   ]
  },
  {
   "cell_type": "markdown",
   "metadata": {},
   "source": [
    "## Show a fragment of the text"
   ]
  },
  {
   "cell_type": "code",
   "execution_count": 3,
   "metadata": {},
   "outputs": [
    {
     "name": "stdout",
     "output_type": "stream",
     "text": [
      "The greatest improvements in the productive powers of labour, and the greater part of the skill, dexterity, and judgment, with which it is anywhere directed, or applied, seem to have been the effects of the division of labour. The effects of the division of labour, in the general business of society, will be more easily understood, by considering in what manner it operates in some particular manufactures. It is commonly supposed to be carried furthest in some very trifling ones; not perhaps that it really is carried further in them than in others of more importance: but in those trifling manufactures which are destined to supply the small wants of but a small number of people, the whole number of workmen must necessarily be small; and those employed in every different branch of the work can often be collected into the same workhouse, and placed at once under the view of the spectator.\r\n",
      "\r\n",
      "In those great manufactures, on the contrary, which are destined to supply the great wants of the great body of the people, every different branch of the work employs so great a number of workmen, that it is impossible to collect them all into the same workhouse. We can seldom see more, at one time, than those employed in one single branch. Though in such manufactures, therefore, the work may really be divided into a much greater number of parts, than in those of a more trifling nature, the division is not near so obvious, and has accordingly been much less observed.\r\n",
      "\r\n",
      "To take an example, therefore, from a very trifling manufacture, but one in which the division of labour has been very often taken notice of, the trade of a pin-maker: a workman not educated to this business (which the division of labour has rendered a distinct trade), nor acquainted with the use of the machinery employed in it (to the invention of which the same division of labour has probably given occasion), could scarce, perhaps, with his utmost industry, make one pin in a day, and certainly could not make twenty. But in the way in which this business is now carried on, not only the whole work is a peculiar trade, but it is divided into a number of branches, of which the greater part are likewise peculiar trades. One man draws out the wire; another straights it; a third cuts it; a fourth points it; a fifth grinds it at the top for receiving the head; to make the head requires two or three distinct operations; to put it on is a peculiar business; to whiten the pins is another; it is even a trade by itself to put them into the paper; and the important business of making a pin is, in this manner, divided into about eighteen distinct operations, which, in some manufactories, are all performed by distinct hands, though in others the same man will sometimes perform two or three of them. I have seen a small manufactory of this kind, where ten men only were employed, and where some of them consequently performed two or three distinct operations. But though they were very poor, and therefore but indifferently accommodated with the necessary machinery, they could, when they exerted themselves, make among them about twelve pounds of pins in a day. There are in a pound upwards of four thousand pins of a middling size. Those ten persons, therefore, could make among them upwards of forty-eight thousand pins in a day. Each person, therefore, making a tenth part of forty-eight thousand pins, might be considered as making four thousand eight hundred pins in a day. But if they had all wrought separately and independently, and without any of them having been educated to this peculiar business, they certainly could not each of them have made twenty, perhaps not one pin in a day; that is, certainly, not the two hundred and fortieth, perhaps not the four thousand eight hundredth, part of what they are at present capable of performing, in consequence of a proper division and combination of their different operations.\r\n",
      "\r\n",
      "In every other art and manufacture, the effects of the division of labour are similar to what they are in this very trifling one, though, in many of them, the labour can neither be so much subdivided, nor reduced to so great a simplicity of operation. The division of labour, however, so far as it can be introduced, occasions, in every art, a proportionable increase of the productive powers of labour. The separation of different trades and employments from one another, seems to have taken place in consequence of this advantage. This separation, too, is generally carried furthest in those countries which enjoy the highest degree of industry and improvement; what is the work of one man, in a rude state of society, being generally that of several in an improved one. In every improved society, the farmer is generally nothing but a farmer; the manufacturer, nothing but a manufacturer. The labour, too, which is necessary to produce any one complete manufacture, is almost always divided among a great number of hands. How many different trades are employed in each branch of the linen and woollen manufactures, from the growers of the flax and the wool, to the bleachers and smoothers of the linen, or to the dyers and dressers of the cloth! The nature of agriculture, indeed, does not admit of so many subdivisions of labour, nor of so complete a separation of one business from another, as manufactures. It is impossible to separate so entirely the business of the grazier from that of the corn-farmer, as the trade of the carpenter is commonly separated from that of the smith. The spinner is almost always a distinct person from the weaver; but the ploughman, the harrower, the sower of the seed, and the reaper of the corn, are often the same. The occasions for those different sorts of labour returning with the different seasons of the year, it is impossible that one man should be constantly employed in any one of them. This impossibility of making so complete and entire a separation of all the different branches of labour employed in agriculture, is perhaps the reason why the improvement of the productive powers of labour, in this art, does not always keep pace with their improvement in manufactures. The most opulent nations, indeed, generally excel all their neighbours in agriculture as well as in manufactures; but they are commonly more distinguished by their superiority in the latter than in the former. Their lands are in general better cultivated, and having more labour and expense bestowed upon them, produce more in proportion to the extent and natural fertility of the ground. But this superiority of produce is seldom much more than in proportion to the superiority of labour and expense. In agriculture, the labour of the rich country is not always much more productive than that of the poor; or, at least, it is never so much more productive, as it commonly is in manufactures. The corn of the rich country, therefore, will not always, in the same degree of goodness, come cheaper to market than that of the poor. The corn of Poland, in the same degree of goodness, is as cheap as that of France, notwithstanding the superior opulence and improvement of the latter country. The corn of France is, in the corn-provinces, fully as good, and in most years nearly about the same price with the corn of England, though, in opulence and improvement, France is perhaps inferior to England. The corn-lands of England, however, are better cultivated than those of France, and the corn-lands of France are said to be much better cultivated than those of Poland. But though the poor country, notwithstanding the inferiority of its cultivation, can, in some measure, rival the rich in the cheapness and goodness of its corn, it can pretend to no such competition in its manufactures, at least if those manufactures suit the soil, climate, and situation, of the rich country. The silks of France are better and cheaper than those of England, because the silk manufacture, at least under the present high duties upon the importation of raw silk, does not so well suit the climate of England as that of France. But the hardware and the coarse woollens of England are beyond all comparison superior to those of France, and much cheaper, too, in the same degree of goodness. In Poland there are said to be scarce any manufactures of any kind, a few of those coarser household manufactures excepted, without which no country can well subsist.\r\n",
      "\r\n",
      "This great increase in the quantity of work, which, in consequence of the division of labour, the same number of people are capable of performing, is owing to three different circumstances; first, to the increase of dexterity in every particular workman; secondly, to the saving of the time which is commonly lost in passing from one species of work to another; and, lastly, to the invention of a great number of machines which facilitate and abridge labour, and enable one man to do the work of many.\r\n",
      "\r\n"
     ]
    }
   ],
   "source": [
    "!head Adam_Smith_An_Inquiry_into_the_Nature_and_Causes_of_the_Wealth_of_Nations.txt"
   ]
  },
  {
   "cell_type": "markdown",
   "metadata": {},
   "source": [
    "## Create Tokenizer"
   ]
  },
  {
   "cell_type": "code",
   "execution_count": 4,
   "metadata": {},
   "outputs": [],
   "source": [
    "tokenizer = Tokenizer()"
   ]
  },
  {
   "cell_type": "markdown",
   "metadata": {},
   "source": [
    "## Load Data"
   ]
  },
  {
   "cell_type": "code",
   "execution_count": 5,
   "metadata": {},
   "outputs": [],
   "source": [
    "data = open('Adam_Smith_An_Inquiry_into_the_Nature_and_Causes_of_the_Wealth_of_Nations.txt').read()"
   ]
  },
  {
   "cell_type": "markdown",
   "metadata": {},
   "source": [
    "## Create Corpus"
   ]
  },
  {
   "cell_type": "code",
   "execution_count": 6,
   "metadata": {},
   "outputs": [],
   "source": [
    "corpus = data.lower().split(\"\\n\")\n",
    "corpus = [line for line in corpus if line != '']"
   ]
  },
  {
   "cell_type": "markdown",
   "metadata": {},
   "source": [
    "## Train Tokenizer"
   ]
  },
  {
   "cell_type": "code",
   "execution_count": 7,
   "metadata": {},
   "outputs": [],
   "source": [
    "tokenizer.fit_on_texts(corpus)"
   ]
  },
  {
   "cell_type": "code",
   "execution_count": 8,
   "metadata": {},
   "outputs": [],
   "source": [
    "total_words = len(tokenizer.word_index) +1"
   ]
  },
  {
   "cell_type": "markdown",
   "metadata": {},
   "source": [
    "## Create input data"
   ]
  },
  {
   "cell_type": "code",
   "execution_count": 9,
   "metadata": {},
   "outputs": [],
   "source": [
    "input_data = []\n",
    "\n",
    "for line in corpus:\n",
    "    token_sent = tokenizer.texts_to_sequences([line])[0]\n",
    "    #print(token_sent)\n",
    "    for i in range(1,len(token_sent)):\n",
    "        my_gram_seq = token_sent[:i+1]\n",
    "        #print(my_gram_seq)\n",
    "        input_data.append(my_gram_seq)"
   ]
  },
  {
   "cell_type": "markdown",
   "metadata": {},
   "source": [
    "## Create Pad Sequences & labels"
   ]
  },
  {
   "cell_type": "code",
   "execution_count": 10,
   "metadata": {},
   "outputs": [],
   "source": [
    "max_sequence_len = max([len(x) for x in input_data])\n",
    "input_data = np.array(pad_sequences(input_data, maxlen=max_sequence_len, padding='pre'))"
   ]
  },
  {
   "cell_type": "code",
   "execution_count": 11,
   "metadata": {},
   "outputs": [
    {
     "name": "stdout",
     "output_type": "stream",
     "text": [
      "[[  0   0   0 ...   0   1 248]\n",
      " [  0   0   0 ...   1 248 143]\n",
      " [  0   0   0 ... 248 143   3]\n",
      " ...\n",
      " [  0   0   0 ...   2 203  74]\n",
      " [  0   0   0 ... 203  74 809]\n",
      " [  0   0   0 ...  74 809 810]]\n"
     ]
    }
   ],
   "source": [
    "print(input_data)"
   ]
  },
  {
   "cell_type": "code",
   "execution_count": 12,
   "metadata": {},
   "outputs": [],
   "source": [
    "X , y = input_data[:,:-1], input_data[:,-1]"
   ]
  },
  {
   "cell_type": "code",
   "execution_count": 13,
   "metadata": {},
   "outputs": [],
   "source": [
    "y_cat = tf.keras.utils.to_categorical(y, num_classes=total_words)"
   ]
  },
  {
   "cell_type": "markdown",
   "metadata": {},
   "source": [
    "## Build the model"
   ]
  },
  {
   "cell_type": "code",
   "execution_count": 14,
   "metadata": {},
   "outputs": [],
   "source": [
    "model = tf.keras.models.Sequential()"
   ]
  },
  {
   "cell_type": "code",
   "execution_count": 15,
   "metadata": {},
   "outputs": [],
   "source": [
    "model.add(Embedding(total_words, 100, input_length=max_sequence_len-1))"
   ]
  },
  {
   "cell_type": "code",
   "execution_count": 16,
   "metadata": {},
   "outputs": [],
   "source": [
    "model.add(Bidirectional(LSTM(150)))"
   ]
  },
  {
   "cell_type": "code",
   "execution_count": 17,
   "metadata": {},
   "outputs": [],
   "source": [
    "model.add(Dense(total_words, activation='softmax'))"
   ]
  },
  {
   "cell_type": "code",
   "execution_count": 18,
   "metadata": {},
   "outputs": [],
   "source": [
    "model.compile(loss='categorical_crossentropy', optimizer=tf.keras.optimizers.Adam(lr=0.001), metrics=['accuracy'])"
   ]
  },
  {
   "cell_type": "code",
   "execution_count": 19,
   "metadata": {},
   "outputs": [
    {
     "name": "stdout",
     "output_type": "stream",
     "text": [
      "Model: \"sequential\"\n",
      "_________________________________________________________________\n",
      "Layer (type)                 Output Shape              Param #   \n",
      "=================================================================\n",
      "embedding (Embedding)        (None, 763, 100)          81100     \n",
      "_________________________________________________________________\n",
      "bidirectional (Bidirectional (None, 300)               301200    \n",
      "_________________________________________________________________\n",
      "dense (Dense)                (None, 811)               244111    \n",
      "=================================================================\n",
      "Total params: 626,411\n",
      "Trainable params: 626,411\n",
      "Non-trainable params: 0\n",
      "_________________________________________________________________\n"
     ]
    }
   ],
   "source": [
    "model.summary()"
   ]
  },
  {
   "cell_type": "markdown",
   "metadata": {},
   "source": [
    "## Training Model"
   ]
  },
  {
   "cell_type": "code",
   "execution_count": 20,
   "metadata": {},
   "outputs": [
    {
     "name": "stdout",
     "output_type": "stream",
     "text": [
      "Train on 3484 samples\n",
      "Epoch 1/25\n",
      "3484/3484 [==============================] - 11s 3ms/sample - loss: 5.8934 - accuracy: 0.0795\n",
      "Epoch 2/25\n",
      "3484/3484 [==============================] - 9s 2ms/sample - loss: 5.5284 - accuracy: 0.0878\n",
      "Epoch 3/25\n",
      "3484/3484 [==============================] - 8s 2ms/sample - loss: 5.3741 - accuracy: 0.1042\n",
      "Epoch 4/25\n",
      "3484/3484 [==============================] - 9s 2ms/sample - loss: 5.0992 - accuracy: 0.1300\n",
      "Epoch 5/25\n",
      "3484/3484 [==============================] - 8s 2ms/sample - loss: 4.7562 - accuracy: 0.1564\n",
      "Epoch 6/25\n",
      "3484/3484 [==============================] - 8s 2ms/sample - loss: 4.4017 - accuracy: 0.1857\n",
      "Epoch 7/25\n",
      "3484/3484 [==============================] - 8s 2ms/sample - loss: 4.0564 - accuracy: 0.2118\n",
      "Epoch 8/25\n",
      "3484/3484 [==============================] - 8s 2ms/sample - loss: 3.7184 - accuracy: 0.2402\n",
      "Epoch 9/25\n",
      "3484/3484 [==============================] - 8s 2ms/sample - loss: 3.4129 - accuracy: 0.2807\n",
      "Epoch 10/25\n",
      "3484/3484 [==============================] - 9s 2ms/sample - loss: 3.1217 - accuracy: 0.3172\n",
      "Epoch 11/25\n",
      "3484/3484 [==============================] - 9s 2ms/sample - loss: 2.8482 - accuracy: 0.3596\n",
      "Epoch 12/25\n",
      "3484/3484 [==============================] - 8s 2ms/sample - loss: 2.5978 - accuracy: 0.4093\n",
      "Epoch 13/25\n",
      "3484/3484 [==============================] - 9s 2ms/sample - loss: 2.3664 - accuracy: 0.4644\n",
      "Epoch 14/25\n",
      "3484/3484 [==============================] - 9s 2ms/sample - loss: 2.1418 - accuracy: 0.5339\n",
      "Epoch 15/25\n",
      "3484/3484 [==============================] - 9s 2ms/sample - loss: 1.9266 - accuracy: 0.5873\n",
      "Epoch 16/25\n",
      "3484/3484 [==============================] - 9s 2ms/sample - loss: 1.7395 - accuracy: 0.6343\n",
      "Epoch 17/25\n",
      "3484/3484 [==============================] - 8s 2ms/sample - loss: 1.5621 - accuracy: 0.6837\n",
      "Epoch 18/25\n",
      "3484/3484 [==============================] - 8s 2ms/sample - loss: 1.4041 - accuracy: 0.7233\n",
      "Epoch 19/25\n",
      "3484/3484 [==============================] - 9s 2ms/sample - loss: 1.2526 - accuracy: 0.7778\n",
      "Epoch 20/25\n",
      "3484/3484 [==============================] - 9s 2ms/sample - loss: 1.1157 - accuracy: 0.8123\n",
      "Epoch 21/25\n",
      "3484/3484 [==============================] - 8s 2ms/sample - loss: 0.9979 - accuracy: 0.8404\n",
      "Epoch 22/25\n",
      "3484/3484 [==============================] - 9s 2ms/sample - loss: 0.8881 - accuracy: 0.8691\n",
      "Epoch 23/25\n",
      "3484/3484 [==============================] - 9s 2ms/sample - loss: 0.7889 - accuracy: 0.8927\n",
      "Epoch 24/25\n",
      "3484/3484 [==============================] - 8s 2ms/sample - loss: 0.6968 - accuracy: 0.9176\n",
      "Epoch 25/25\n",
      "3484/3484 [==============================] - 8s 2ms/sample - loss: 0.6147 - accuracy: 0.9348\n"
     ]
    }
   ],
   "source": [
    "history = model.fit(X, y_cat, epochs=25, verbose=1)"
   ]
  },
  {
   "cell_type": "markdown",
   "metadata": {},
   "source": [
    "## Plot Train Accuracy"
   ]
  },
  {
   "cell_type": "code",
   "execution_count": 21,
   "metadata": {},
   "outputs": [
    {
     "data": {
      "image/png": "[encoded data removed]",
      "text/plain": [
       "<Figure size 432x288 with 1 Axes>"
      ]
     },
     "metadata": {
      "needs_background": "light"
     },
     "output_type": "display_data"
    }
   ],
   "source": [
    "plt.plot(history.history['accuracy'])\n",
    "plt.xlabel(\"Epochs\")\n",
    "plt.ylabel(\"accuracy\")\n",
    "plt.show()"
   ]
  },
  {
   "cell_type": "markdown",
   "metadata": {},
   "source": [
    "## Predict next 5 words"
   ]
  },
  {
   "cell_type": "code",
   "execution_count": 22,
   "metadata": {},
   "outputs": [
    {
     "name": "stdout",
     "output_type": "stream",
     "text": [
      "from the growers of the flax and the wool, to the bleachers and common smith which the quantity\n"
     ]
    }
   ],
   "source": [
    "my_text = \"from the growers of the flax and the wool, to the bleachers and\"\n",
    "next_words = 5\n",
    "  \n",
    "for _ in range(next_words):\n",
    "    token_sent = tokenizer.texts_to_sequences([my_text])[0]\n",
    "    token_sent = pad_sequences([token_sent], maxlen=max_sequence_len-1, padding='pre')\n",
    "    prediction = model.predict_classes(token_sent, verbose=0)\n",
    "    output_word = \"\"\n",
    "    for word, index in tokenizer.word_index.items():\n",
    "        if index == prediction:\n",
    "            output_word = word\n",
    "            break\n",
    "    my_text += \" \" + output_word\n",
    "print(my_text)"
   ]
  },
  {
   "cell_type": "markdown",
   "metadata": {},
   "source": [
    "## Predict next 10 words"
   ]
  },
  {
   "cell_type": "code",
   "execution_count": 23,
   "metadata": {},
   "outputs": [
    {
     "name": "stdout",
     "output_type": "stream",
     "text": [
      "from the growers of the flax and the wool, to the bleachers and common smith which the quantity of the people of the\n"
     ]
    }
   ],
   "source": [
    "my_text = \"from the growers of the flax and the wool, to the bleachers and\"\n",
    "next_words = 10\n",
    "  \n",
    "for _ in range(next_words):\n",
    "    token_sent = tokenizer.texts_to_sequences([my_text])[0]\n",
    "    token_sent = pad_sequences([token_sent], maxlen=max_sequence_len-1, padding='pre')\n",
    "    prediction = model.predict_classes(token_sent, verbose=0)\n",
    "    output_word = \"\"\n",
    "    for word, index in tokenizer.word_index.items():\n",
    "        if index == prediction:\n",
    "            output_word = word\n",
    "            break\n",
    "    my_text += \" \" + output_word\n",
    "print(my_text)"
   ]
  },
  {
   "cell_type": "markdown",
   "metadata": {},
   "source": [
    "## Predict next 15 words"
   ]
  },
  {
   "cell_type": "code",
   "execution_count": 26,
   "metadata": {},
   "outputs": [
    {
     "name": "stdout",
     "output_type": "stream",
     "text": [
      "from the growers of the flax and the wool, to the bleachers and common smith which the quantity of the people of the corn of labour is so\n"
     ]
    }
   ],
   "source": [
    "my_text = \"from the growers of the flax and the wool, to the bleachers and\"\n",
    "next_words = 15\n",
    "  \n",
    "for _ in range(next_words):\n",
    "    token_sent = tokenizer.texts_to_sequences([my_text])[0]\n",
    "    token_sent = pad_sequences([token_sent], maxlen=max_sequence_len-1, padding='pre')\n",
    "    prediction = model.predict_classes(token_sent, verbose=0)\n",
    "    output_word = \"\"\n",
    "    for word, index in tokenizer.word_index.items():\n",
    "        if index == prediction:\n",
    "            output_word = word\n",
    "            break\n",
    "    my_text += \" \" + output_word\n",
    "print(my_text)"
   ]
  }
 ],
 "metadata": {
  "kernelspec": {
   "display_name": "Python 3",
   "language": "python",
   "name": "python3"
  },
  "language_info": {
   "codemirror_mode": {
    "name": "ipython",
    "version": 3
   },
   "file_extension": ".py",
   "mimetype": "text/x-python",
   "name": "python",
   "nbconvert_exporter": "python",
   "pygments_lexer": "ipython3",
   "version": "3.6.9"
  }
 },
 "nbformat": 4,
 "nbformat_minor": 4
}
